{
 "cells": [
  {
   "cell_type": "markdown",
   "metadata": {},
   "source": [
    "# Projet Data Visualisation\n",
    "## Transformation des données pour leur utilisation"
   ]
  },
  {
   "cell_type": "code",
   "execution_count": null,
   "metadata": {},
   "outputs": [],
   "source": [
    "import pandas as pd"
   ]
  },
  {
   "cell_type": "markdown",
   "metadata": {},
   "source": [
    "### Lecture des données"
   ]
  },
  {
   "cell_type": "code",
   "execution_count": null,
   "metadata": {},
   "outputs": [],
   "source": [
    "df_operations = pd.read_excel(\"../data/operation_20200101_20211231.xlsx\")[[\"Libellé\", \"Date\", \"Montant\", \"Catégorie\"]]\n",
    "df_operations = df_operations.loc[df_operations[\"Montant\"] < 0]"
   ]
  },
  {
   "cell_type": "code",
   "execution_count": null,
   "metadata": {},
   "outputs": [],
   "source": [
    "df_operations.head()"
   ]
  },
  {
   "cell_type": "code",
   "execution_count": null,
   "metadata": {},
   "outputs": [],
   "source": [
    "df_expenses_cat = pd.read_excel(\"../data/expenses_by_category.xlsx\").rename(columns={\"Unnamed: 0\": \"Catégorie\", \"Autres inactifs\":\"Etudiants\"})[[\"Catégorie\", \"Etudiants\", \"Ensemble\"]][:-1]"
   ]
  },
  {
   "cell_type": "code",
   "execution_count": null,
   "metadata": {},
   "outputs": [],
   "source": [
    "df_expenses_cat.head()"
   ]
  },
  {
   "cell_type": "markdown",
   "metadata": {},
   "source": [
    "### Comparaison et mapping des catégories"
   ]
  },
  {
   "cell_type": "code",
   "execution_count": null,
   "metadata": {},
   "outputs": [],
   "source": [
    "df_operations[\"Catégorie\"].unique()"
   ]
  },
  {
   "cell_type": "code",
   "execution_count": null,
   "metadata": {},
   "outputs": [],
   "source": [
    "df_expenses_cat[\"Catégorie\"].unique()"
   ]
  },
  {
   "cell_type": "code",
   "execution_count": null,
   "metadata": {},
   "outputs": [],
   "source": [
    "categories_mapping_operations = {\n",
    "    \"Habitation\":[\"Habitation\", \"Travaux\", \"Electricité, gaz, eau\", \"Impôts : taxe foncière\", \"Impôts : taxe habitation\",\n",
    "                 \"Habitation secondaire\", \"Loyer\", \"Jardin\", \"Assurance logement\", \"Ménage/repassage\",\n",
    "                 \"Ameublement/équipement\"],\n",
    "    \"Loisirs\":[\"Loisirs\", \"Multimédia\", \"Vacances\", \"Animaux\", \"Sport\", \"Sorties\", \"Cadeaux\", \"Evènements\", \"Jeux\",\n",
    "              \"Hôtels\", \"Livres\", \"Restaurant\"],\n",
    "    \"Communications\":[\"Téléphone\", \"Internet/TV\", \"Communications\"],\n",
    "    \"Alimentation\" :[\"Alimentation\", \"Cantine\"],\n",
    "    \"Transports\":[\"Transports\", \"Véhicule\", \"Moto\", \"Péages\", \"Essence\", \"Location Voiture\", \"Assurance auto\",\n",
    "                 \"Assurance moto\", \"Parking\"],\n",
    "    \"Santé/Bien être\":[\"Santé/Bien être\", \"Soin du corps\", \"Services à la personne\", \"Mutuelle de santé\", \"Pharmacie\",\n",
    "                      \"Assurance santé\", \"Aides à domicile\", \"Coiffeur\"],\n",
    "    \"Habillement\":[\"Habillement\", \"Chaussures\", \"Accessoires\"],\n",
    "    \"Autres\":[\"Frais Pro\", \"Enfants\", \"Amendes\", \"Frais de justice\", \"Frais de scolarité\", \"Gardes d'enfant\", \"Dons\", \n",
    "             \"Impôts : autres\", \"Assurances : autres\", \"Autres dépenses\",\n",
    "             \"Impôts : revenus\", \"Epargne\", \"Prêts\", \"Agios\", \"Frais bancaires\", \"Assurance vie\", \"Bourse\", \n",
    "             \"Retrait d'argent\", \"Prêt relais\"]\n",
    "}\n",
    "categories_mapping_operations = {subcat:cat for cat in categories_mapping_operations.keys() for subcat in categories_mapping_operations[cat]}"
   ]
  },
  {
   "cell_type": "code",
   "execution_count": null,
   "metadata": {},
   "outputs": [],
   "source": [
    "categories_mapping_expenses_cat = {\n",
    "    'Produits alimentaires et boissons non alcoolisées':\"Alimentation\",\n",
    "    'Boissons alcoolisées et tabac':\"Alimentation\",\n",
    "    \"Articles d'habillement et chaussures\":\"Habillement\",\n",
    "    'Logement, eau, gaz, électricité et autres combustibles':\"Habitation\",\n",
    "    'Meubles, articles de ménage et entretien courant de la maison' :\"Habitation\",\n",
    "    'Santé' : \"Santé/Bien être\",\n",
    "    'Transports':\"Transports\",\n",
    "    'Communications': \"Communications\",\n",
    "    'Loisirs et culture':\"Loisirs\",\n",
    "    'Enseignement':\"Autres\",\n",
    "    'Restauration et hôtels':\"Loisirs\",\n",
    "    'Biens et services divers (1)':\"Autres\"\n",
    "}"
   ]
  },
  {
   "cell_type": "markdown",
   "metadata": {},
   "source": [
    "### Transformation des données"
   ]
  },
  {
   "cell_type": "code",
   "execution_count": null,
   "metadata": {},
   "outputs": [],
   "source": [
    "df_operations[\"Catégorie\"] = df_operations[\"Catégorie\"].map(categories_mapping_operations)"
   ]
  },
  {
   "cell_type": "code",
   "execution_count": null,
   "metadata": {
    "scrolled": true
   },
   "outputs": [],
   "source": [
    "df_operations[\"Catégorie\"].value_counts()"
   ]
  },
  {
   "cell_type": "code",
   "execution_count": null,
   "metadata": {
    "scrolled": true
   },
   "outputs": [],
   "source": [
    "df_expenses_cat[\"Catégorie\"] = df_expenses_cat[\"Catégorie\"].map(categories_mapping_expenses_cat)\n",
    "df_expenses_cat = df_expenses_cat.groupby(\"Catégorie\").sum().reset_index()\n",
    "df_expenses_cat"
   ]
  },
  {
   "cell_type": "markdown",
   "metadata": {},
   "source": [
    "### Sauvegarde des données"
   ]
  },
  {
   "cell_type": "code",
   "execution_count": null,
   "metadata": {},
   "outputs": [],
   "source": [
    "df_operations.to_csv(\"../data/operations.csv\", index=False)\n",
    "df_expenses_cat.to_csv(\"../data/repartition_categories.csv\", index=False)"
   ]
  }
 ],
 "metadata": {
  "kernelspec": {
   "display_name": "Python 3",
   "language": "python",
   "name": "python3"
  },
  "language_info": {
   "codemirror_mode": {
    "name": "ipython",
    "version": 3
   },
   "file_extension": ".py",
   "mimetype": "text/x-python",
   "name": "python",
   "nbconvert_exporter": "python",
   "pygments_lexer": "ipython3",
   "version": "3.8.5"
  }
 },
 "nbformat": 4,
 "nbformat_minor": 4
}
