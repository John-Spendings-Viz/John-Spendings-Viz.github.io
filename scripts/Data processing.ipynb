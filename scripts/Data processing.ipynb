{
 "cells": [
  {
   "cell_type": "markdown",
   "metadata": {},
   "source": [
    "# Projet Data Visualisation\n",
    "## Transformation des données pour leur utilisation"
   ]
  },
  {
   "cell_type": "code",
   "execution_count": 43,
   "metadata": {},
   "outputs": [],
   "source": [
    "import pandas as pd\n",
    "import re"
   ]
  },
  {
   "cell_type": "markdown",
   "metadata": {},
   "source": [
    "### Lecture des données"
   ]
  },
  {
   "cell_type": "code",
   "execution_count": 44,
   "metadata": {},
   "outputs": [],
   "source": [
    "file = \"releves_bancaires_2021.csv\"\n",
    "df_operations = pd.read_csv(f\"../data/{file}\", sep = \";\")[[\"Libellé\", \"Date\", \"Débit euros\", \"Catégorie\"]]\n",
    "df_operations = df_operations.loc[df_operations[\"Débit euros\"].notnull ()]"
   ]
  },
  {
   "cell_type": "code",
   "execution_count": 45,
   "metadata": {},
   "outputs": [
    {
     "data": {
      "text/html": [
       "<div>\n",
       "<style scoped>\n",
       "    .dataframe tbody tr th:only-of-type {\n",
       "        vertical-align: middle;\n",
       "    }\n",
       "\n",
       "    .dataframe tbody tr th {\n",
       "        vertical-align: top;\n",
       "    }\n",
       "\n",
       "    .dataframe thead th {\n",
       "        text-align: right;\n",
       "    }\n",
       "</style>\n",
       "<table border=\"1\" class=\"dataframe\">\n",
       "  <thead>\n",
       "    <tr style=\"text-align: right;\">\n",
       "      <th></th>\n",
       "      <th>Libellé</th>\n",
       "      <th>Date</th>\n",
       "      <th>Débit euros</th>\n",
       "      <th>Catégorie</th>\n",
       "    </tr>\n",
       "  </thead>\n",
       "  <tbody>\n",
       "    <tr>\n",
       "      <th>0</th>\n",
       "      <td>PAIEMENT PAR CARTE      \\nREST UNIV PUVIS 69 V...</td>\n",
       "      <td>17/12/2021</td>\n",
       "      <td>6,6</td>\n",
       "      <td>Cantine</td>\n",
       "    </tr>\n",
       "    <tr>\n",
       "      <th>1</th>\n",
       "      <td>PAIEMENT PAR CARTE      \\nMAXICOFFEE ARA NEYRO...</td>\n",
       "      <td>16/12/2021</td>\n",
       "      <td>2,3</td>\n",
       "      <td>Snacking</td>\n",
       "    </tr>\n",
       "    <tr>\n",
       "      <th>2</th>\n",
       "      <td>PAIEMENT PAR CARTE      \\nMAXICOFFEE ARA NEYRO...</td>\n",
       "      <td>16/12/2021</td>\n",
       "      <td>1,6</td>\n",
       "      <td>Snacking</td>\n",
       "    </tr>\n",
       "    <tr>\n",
       "      <th>3</th>\n",
       "      <td>PAIEMENT PAR CARTE      \\nMAXICOFFEE ARA NEYRO...</td>\n",
       "      <td>16/12/2021</td>\n",
       "      <td>1</td>\n",
       "      <td>Snacking</td>\n",
       "    </tr>\n",
       "    <tr>\n",
       "      <th>4</th>\n",
       "      <td>PAIEMENT PAR CARTE      \\nSEAZEN LYON 7EME    ...</td>\n",
       "      <td>15/12/2021</td>\n",
       "      <td>6,9</td>\n",
       "      <td>Restaurants</td>\n",
       "    </tr>\n",
       "  </tbody>\n",
       "</table>\n",
       "</div>"
      ],
      "text/plain": [
       "                                             Libellé        Date Débit euros  \\\n",
       "0  PAIEMENT PAR CARTE      \\nREST UNIV PUVIS 69 V...  17/12/2021         6,6   \n",
       "1  PAIEMENT PAR CARTE      \\nMAXICOFFEE ARA NEYRO...  16/12/2021         2,3   \n",
       "2  PAIEMENT PAR CARTE      \\nMAXICOFFEE ARA NEYRO...  16/12/2021         1,6   \n",
       "3  PAIEMENT PAR CARTE      \\nMAXICOFFEE ARA NEYRO...  16/12/2021           1   \n",
       "4  PAIEMENT PAR CARTE      \\nSEAZEN LYON 7EME    ...  15/12/2021         6,9   \n",
       "\n",
       "     Catégorie  \n",
       "0      Cantine  \n",
       "1     Snacking  \n",
       "2     Snacking  \n",
       "3     Snacking  \n",
       "4  Restaurants  "
      ]
     },
     "execution_count": 45,
     "metadata": {},
     "output_type": "execute_result"
    }
   ],
   "source": [
    "df_operations.head()"
   ]
  },
  {
   "cell_type": "code",
   "execution_count": 46,
   "metadata": {},
   "outputs": [],
   "source": [
    "df_expenses_cat = pd.read_excel(\"../data/expenses_by_category.xlsx\").rename(columns={\"Unnamed: 0\": \"Catégorie\", \"Autres inactifs\":\"Etudiants\", \"Ensemble\":\"Français\"})[[\"Catégorie\", \"Etudiants\", \"Français\"]][:-1]"
   ]
  },
  {
   "cell_type": "code",
   "execution_count": 47,
   "metadata": {},
   "outputs": [
    {
     "data": {
      "text/html": [
       "<div>\n",
       "<style scoped>\n",
       "    .dataframe tbody tr th:only-of-type {\n",
       "        vertical-align: middle;\n",
       "    }\n",
       "\n",
       "    .dataframe tbody tr th {\n",
       "        vertical-align: top;\n",
       "    }\n",
       "\n",
       "    .dataframe thead th {\n",
       "        text-align: right;\n",
       "    }\n",
       "</style>\n",
       "<table border=\"1\" class=\"dataframe\">\n",
       "  <thead>\n",
       "    <tr style=\"text-align: right;\">\n",
       "      <th></th>\n",
       "      <th>Catégorie</th>\n",
       "      <th>Etudiants</th>\n",
       "      <th>Français</th>\n",
       "    </tr>\n",
       "  </thead>\n",
       "  <tbody>\n",
       "    <tr>\n",
       "      <th>0</th>\n",
       "      <td>Produits alimentaires et boissons non alcoolisées</td>\n",
       "      <td>16.768891</td>\n",
       "      <td>16.090613</td>\n",
       "    </tr>\n",
       "    <tr>\n",
       "      <th>1</th>\n",
       "      <td>Boissons alcoolisées et tabac</td>\n",
       "      <td>3.517955</td>\n",
       "      <td>2.875439</td>\n",
       "    </tr>\n",
       "    <tr>\n",
       "      <th>2</th>\n",
       "      <td>Articles d'habillement et chaussures</td>\n",
       "      <td>5.812929</td>\n",
       "      <td>5.012124</td>\n",
       "    </tr>\n",
       "    <tr>\n",
       "      <th>3</th>\n",
       "      <td>Logement, eau, gaz, électricité et autres comb...</td>\n",
       "      <td>24.132486</td>\n",
       "      <td>16.251477</td>\n",
       "    </tr>\n",
       "    <tr>\n",
       "      <th>4</th>\n",
       "      <td>Meubles, articles de ménage et entretien coura...</td>\n",
       "      <td>4.751010</td>\n",
       "      <td>5.684839</td>\n",
       "    </tr>\n",
       "  </tbody>\n",
       "</table>\n",
       "</div>"
      ],
      "text/plain": [
       "                                           Catégorie  Etudiants   Français\n",
       "0  Produits alimentaires et boissons non alcoolisées  16.768891  16.090613\n",
       "1                      Boissons alcoolisées et tabac   3.517955   2.875439\n",
       "2               Articles d'habillement et chaussures   5.812929   5.012124\n",
       "3  Logement, eau, gaz, électricité et autres comb...  24.132486  16.251477\n",
       "4  Meubles, articles de ménage et entretien coura...   4.751010   5.684839"
      ]
     },
     "execution_count": 47,
     "metadata": {},
     "output_type": "execute_result"
    }
   ],
   "source": [
    "df_expenses_cat.head()"
   ]
  },
  {
   "cell_type": "markdown",
   "metadata": {},
   "source": [
    "### Comparaison et mapping des catégories"
   ]
  },
  {
   "cell_type": "code",
   "execution_count": 48,
   "metadata": {},
   "outputs": [
    {
     "data": {
      "text/plain": [
       "array(['Cantine', 'Snacking', 'Restaurants', 'Alimentation', 'Livres',\n",
       "       'Transports', 'Mutuelle de santé', 'Téléphone', 'Loyer', 'Cadeaux',\n",
       "       'Travaux', 'Pharmacie', 'Jeux', 'Multimédia', 'Évènements',\n",
       "       'Habillement', 'Autres dépenses', 'Sorties', 'Frais bancaires',\n",
       "       'Ameublement/équipement', 'Santé/Bien être', \"Retrait d'argent\",\n",
       "       'Dons', 'Chaussures', 'Frais de scolarité', 'Assurance logement',\n",
       "       'Frais immobiliers'], dtype=object)"
      ]
     },
     "execution_count": 48,
     "metadata": {},
     "output_type": "execute_result"
    }
   ],
   "source": [
    "df_operations[\"Catégorie\"].unique()"
   ]
  },
  {
   "cell_type": "code",
   "execution_count": 49,
   "metadata": {},
   "outputs": [
    {
     "data": {
      "text/plain": [
       "array(['Produits alimentaires et boissons non alcoolisées',\n",
       "       'Boissons alcoolisées et tabac',\n",
       "       \"Articles d'habillement et chaussures\",\n",
       "       'Logement, eau, gaz, électricité et autres combustibles',\n",
       "       'Meubles, articles de ménage et entretien courant de la maison',\n",
       "       'Santé', 'Transports', 'Communications', 'Loisirs et culture',\n",
       "       'Enseignement', 'Restauration et hôtels',\n",
       "       'Biens et services divers (1)'], dtype=object)"
      ]
     },
     "execution_count": 49,
     "metadata": {},
     "output_type": "execute_result"
    }
   ],
   "source": [
    "df_expenses_cat[\"Catégorie\"].unique()"
   ]
  },
  {
   "cell_type": "code",
   "execution_count": 50,
   "metadata": {},
   "outputs": [],
   "source": [
    "categories_mapping_operations = {\n",
    "    \"Habitation\":[\"Habitation\", \"Travaux\", \"Electricité, gaz, eau\", \"Impôts : taxe foncière\", \"Impôts : taxe habitation\",\n",
    "                 \"Habitation secondaire\", \"Loyer\", \"Jardin\", \"Assurance logement\", \"Ménage/repassage\",\n",
    "                 \"Ameublement/équipement\"],\n",
    "    \"Loisirs\":[\"Loisirs\", \"Multimédia\", \"Vacances\", \"Animaux\", \"Sport\", \"Sorties\", \"Cadeaux\", \"Evènements\", \"Jeux\",\n",
    "              \"Hôtels\", \"Livres\", \"Restaurants\"],\n",
    "    \"Communications\":[\"Téléphone\", \"Internet/TV\", \"Communications\"],\n",
    "    \"Alimentation\" :[\"Alimentation\", \"Cantine\", \"Snacking\"],\n",
    "    \"Transports\":[\"Transports\", \"Véhicule\", \"Moto\", \"Péages\", \"Essence\", \"Location Voiture\", \"Assurance auto\",\n",
    "                 \"Assurance moto\", \"Parking\"],\n",
    "    \"Santé/Bien être\":[\"Santé/Bien être\", \"Soin du corps\", \"Services à la personne\", \"Mutuelle de santé\", \"Pharmacie\",\n",
    "                      \"Assurance santé\", \"Aides à domicile\", \"Coiffeur\"],\n",
    "    \"Habillement\":[\"Habillement\", \"Chaussures\", \"Accessoires\"],\n",
    "    \"Autres\":[\"Frais Pro\", \"Enfants\", \"Amendes\", \"Frais de justice\", \"Frais de scolarité\", \"Gardes d'enfant\", \"Dons\", \n",
    "             \"Impôts : autres\", \"Assurances : autres\", \"Autres dépenses\",\n",
    "             \"Impôts : revenus\", \"Epargne\", \"Prêts\", \"Agios\", \"Frais bancaires\", \"Assurance vie\", \"Bourse\", \n",
    "             \"Retrait d'argent\", \"Prêt relais\"]\n",
    "}\n",
    "categories_mapping_operations = {subcat:cat for cat in categories_mapping_operations.keys() for subcat in categories_mapping_operations[cat]}"
   ]
  },
  {
   "cell_type": "code",
   "execution_count": 51,
   "metadata": {},
   "outputs": [],
   "source": [
    "categories_mapping_expenses_cat = {\n",
    "    'Produits alimentaires et boissons non alcoolisées':\"Alimentation\",\n",
    "    'Boissons alcoolisées et tabac':\"Alimentation\",\n",
    "    \"Articles d'habillement et chaussures\":\"Habillement\",\n",
    "    'Logement, eau, gaz, électricité et autres combustibles':\"Habitation\",\n",
    "    'Meubles, articles de ménage et entretien courant de la maison' :\"Habitation\",\n",
    "    'Santé' : \"Santé/Bien être\",\n",
    "    'Transports':\"Transports\",\n",
    "    'Communications': \"Communications\",\n",
    "    'Loisirs et culture':\"Loisirs\",\n",
    "    'Enseignement':\"Autres\",\n",
    "    'Restauration et hôtels':\"Loisirs\",\n",
    "    'Biens et services divers (1)':\"Autres\"\n",
    "}"
   ]
  },
  {
   "cell_type": "markdown",
   "metadata": {},
   "source": [
    "### Transformation des données"
   ]
  },
  {
   "cell_type": "code",
   "execution_count": 52,
   "metadata": {},
   "outputs": [],
   "source": [
    "df_operations = df_operations.rename(columns = {\"Débit euros\": \"Montant\"})\n",
    "df_operations[\"Libellé\"] = df_operations[\"Libellé\"].map (lambda x: re.split (\"\\d+\", x.splitlines ()[1])[0])"
   ]
  },
  {
   "cell_type": "code",
   "execution_count": 53,
   "metadata": {},
   "outputs": [
    {
     "data": {
      "text/html": [
       "<div>\n",
       "<style scoped>\n",
       "    .dataframe tbody tr th:only-of-type {\n",
       "        vertical-align: middle;\n",
       "    }\n",
       "\n",
       "    .dataframe tbody tr th {\n",
       "        vertical-align: top;\n",
       "    }\n",
       "\n",
       "    .dataframe thead th {\n",
       "        text-align: right;\n",
       "    }\n",
       "</style>\n",
       "<table border=\"1\" class=\"dataframe\">\n",
       "  <thead>\n",
       "    <tr style=\"text-align: right;\">\n",
       "      <th></th>\n",
       "      <th>Libellé</th>\n",
       "      <th>Date</th>\n",
       "      <th>Montant</th>\n",
       "      <th>Catégorie</th>\n",
       "    </tr>\n",
       "  </thead>\n",
       "  <tbody>\n",
       "    <tr>\n",
       "      <th>0</th>\n",
       "      <td>REST UNIV PUVIS</td>\n",
       "      <td>17/12/2021</td>\n",
       "      <td>6,6</td>\n",
       "      <td>Alimentation</td>\n",
       "    </tr>\n",
       "    <tr>\n",
       "      <th>1</th>\n",
       "      <td>MAXICOFFEE ARA NEYRON</td>\n",
       "      <td>16/12/2021</td>\n",
       "      <td>2,3</td>\n",
       "      <td>Alimentation</td>\n",
       "    </tr>\n",
       "    <tr>\n",
       "      <th>2</th>\n",
       "      <td>MAXICOFFEE ARA NEYRON</td>\n",
       "      <td>16/12/2021</td>\n",
       "      <td>1,6</td>\n",
       "      <td>Alimentation</td>\n",
       "    </tr>\n",
       "    <tr>\n",
       "      <th>3</th>\n",
       "      <td>MAXICOFFEE ARA NEYRON</td>\n",
       "      <td>16/12/2021</td>\n",
       "      <td>1</td>\n",
       "      <td>Alimentation</td>\n",
       "    </tr>\n",
       "    <tr>\n",
       "      <th>4</th>\n",
       "      <td>SEAZEN LYON</td>\n",
       "      <td>15/12/2021</td>\n",
       "      <td>6,9</td>\n",
       "      <td>Loisirs</td>\n",
       "    </tr>\n",
       "  </tbody>\n",
       "</table>\n",
       "</div>"
      ],
      "text/plain": [
       "                       Libellé        Date Montant     Catégorie\n",
       "0             REST UNIV PUVIS   17/12/2021     6,6  Alimentation\n",
       "1  MAXICOFFEE ARA NEYRON        16/12/2021     2,3  Alimentation\n",
       "2  MAXICOFFEE ARA NEYRON        16/12/2021     1,6  Alimentation\n",
       "3  MAXICOFFEE ARA NEYRON        16/12/2021       1  Alimentation\n",
       "4                 SEAZEN LYON   15/12/2021     6,9       Loisirs"
      ]
     },
     "execution_count": 53,
     "metadata": {},
     "output_type": "execute_result"
    }
   ],
   "source": [
    "df_operations[\"Catégorie\"] = df_operations[\"Catégorie\"].map(categories_mapping_operations)\n",
    "df_operations.head()"
   ]
  },
  {
   "cell_type": "code",
   "execution_count": 54,
   "metadata": {
    "scrolled": true
   },
   "outputs": [
    {
     "data": {
      "text/plain": [
       "Alimentation       130\n",
       "Loisirs             95\n",
       "Santé/Bien être     40\n",
       "Transports          35\n",
       "Habitation          17\n",
       "Communications      12\n",
       "Autres              12\n",
       "Habillement          8\n",
       "Name: Catégorie, dtype: int64"
      ]
     },
     "execution_count": 54,
     "metadata": {},
     "output_type": "execute_result"
    }
   ],
   "source": [
    "df_operations[\"Catégorie\"].value_counts()"
   ]
  },
  {
   "cell_type": "code",
   "execution_count": 55,
   "metadata": {
    "scrolled": true
   },
   "outputs": [
    {
     "data": {
      "text/html": [
       "<div>\n",
       "<style scoped>\n",
       "    .dataframe tbody tr th:only-of-type {\n",
       "        vertical-align: middle;\n",
       "    }\n",
       "\n",
       "    .dataframe tbody tr th {\n",
       "        vertical-align: top;\n",
       "    }\n",
       "\n",
       "    .dataframe thead th {\n",
       "        text-align: right;\n",
       "    }\n",
       "</style>\n",
       "<table border=\"1\" class=\"dataframe\">\n",
       "  <thead>\n",
       "    <tr style=\"text-align: right;\">\n",
       "      <th></th>\n",
       "      <th>Catégorie</th>\n",
       "      <th>Etudiants</th>\n",
       "      <th>Français</th>\n",
       "    </tr>\n",
       "  </thead>\n",
       "  <tbody>\n",
       "    <tr>\n",
       "      <th>0</th>\n",
       "      <td>Alimentation</td>\n",
       "      <td>20.286845</td>\n",
       "      <td>18.966052</td>\n",
       "    </tr>\n",
       "    <tr>\n",
       "      <th>1</th>\n",
       "      <td>Autres</td>\n",
       "      <td>14.800799</td>\n",
       "      <td>16.625232</td>\n",
       "    </tr>\n",
       "    <tr>\n",
       "      <th>2</th>\n",
       "      <td>Communications</td>\n",
       "      <td>3.649845</td>\n",
       "      <td>2.711766</td>\n",
       "    </tr>\n",
       "    <tr>\n",
       "      <th>3</th>\n",
       "      <td>Habillement</td>\n",
       "      <td>5.812929</td>\n",
       "      <td>5.012124</td>\n",
       "    </tr>\n",
       "    <tr>\n",
       "      <th>4</th>\n",
       "      <td>Habitation</td>\n",
       "      <td>28.883495</td>\n",
       "      <td>21.936316</td>\n",
       "    </tr>\n",
       "  </tbody>\n",
       "</table>\n",
       "</div>"
      ],
      "text/plain": [
       "        Catégorie  Etudiants   Français\n",
       "0    Alimentation  20.286845  18.966052\n",
       "1          Autres  14.800799  16.625232\n",
       "2  Communications   3.649845   2.711766\n",
       "3     Habillement   5.812929   5.012124\n",
       "4      Habitation  28.883495  21.936316"
      ]
     },
     "execution_count": 55,
     "metadata": {},
     "output_type": "execute_result"
    }
   ],
   "source": [
    "df_expenses_cat[\"Catégorie\"] = df_expenses_cat[\"Catégorie\"].map(categories_mapping_expenses_cat)\n",
    "df_expenses_cat = df_expenses_cat.groupby(\"Catégorie\").sum().reset_index()\n",
    "df_expenses_cat.head()"
   ]
  },
  {
   "cell_type": "markdown",
   "metadata": {},
   "source": [
    "### Sauvegarde des données"
   ]
  },
  {
   "cell_type": "code",
   "execution_count": 56,
   "metadata": {},
   "outputs": [],
   "source": [
    "df_operations.to_csv(\"../data/operations.csv\", index=False)\n",
    "df_expenses_cat.to_csv(\"../data/repartition_categories.csv\", index=False)"
   ]
  }
 ],
 "metadata": {
  "kernelspec": {
   "display_name": "Python 3 (ipykernel)",
   "language": "python",
   "name": "python3"
  },
  "language_info": {
   "codemirror_mode": {
    "name": "ipython",
    "version": 3
   },
   "file_extension": ".py",
   "mimetype": "text/x-python",
   "name": "python",
   "nbconvert_exporter": "python",
   "pygments_lexer": "ipython3",
   "version": "3.10.0"
  }
 },
 "nbformat": 4,
 "nbformat_minor": 4
}
