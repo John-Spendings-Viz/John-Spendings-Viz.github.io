{
 "cells": [
  {
   "cell_type": "markdown",
   "metadata": {},
   "source": [
    "# Projet Data Visualisation\n",
    "## Transformation des données pour leur utilisation"
   ]
  },
  {
   "cell_type": "code",
   "execution_count": 49,
   "metadata": {},
   "outputs": [],
   "source": [
    "import pandas as pd\n",
    "import unidecode as ud # pour enlever les accents aux libellés des colonnes\n",
    "import re"
   ]
  },
  {
   "cell_type": "markdown",
   "metadata": {},
   "source": [
    "### Lecture des données"
   ]
  },
  {
   "cell_type": "code",
   "execution_count": 50,
   "metadata": {},
   "outputs": [],
   "source": [
    "file = \"releves_bancaires_2021.csv\"\n",
    "df_operations = pd.read_csv(f\"../data/{file}\", sep = \";\", decimal = \",\")[[\"Libellé\", \"Date\", \"Débit euros\", \"Catégorie\"]]\n",
    "df_operations = df_operations.loc[df_operations[\"Débit euros\"].notnull ()] # on ne garde que les débits"
   ]
  },
  {
   "cell_type": "code",
   "execution_count": 51,
   "metadata": {},
   "outputs": [
    {
     "data": {
      "text/html": [
       "<div>\n",
       "<style scoped>\n",
       "    .dataframe tbody tr th:only-of-type {\n",
       "        vertical-align: middle;\n",
       "    }\n",
       "\n",
       "    .dataframe tbody tr th {\n",
       "        vertical-align: top;\n",
       "    }\n",
       "\n",
       "    .dataframe thead th {\n",
       "        text-align: right;\n",
       "    }\n",
       "</style>\n",
       "<table border=\"1\" class=\"dataframe\">\n",
       "  <thead>\n",
       "    <tr style=\"text-align: right;\">\n",
       "      <th></th>\n",
       "      <th>Libellé</th>\n",
       "      <th>Date</th>\n",
       "      <th>Débit euros</th>\n",
       "      <th>Catégorie</th>\n",
       "    </tr>\n",
       "  </thead>\n",
       "  <tbody>\n",
       "    <tr>\n",
       "      <th>1</th>\n",
       "      <td>PRELEVEMENT        \\r\\nBouygues Telecom</td>\n",
       "      <td>27/12/2021</td>\n",
       "      <td>11.99</td>\n",
       "      <td>Téléphone</td>\n",
       "    </tr>\n",
       "    <tr>\n",
       "      <th>2</th>\n",
       "      <td>PAIEMENT PAR CARTE        \\r\\nLA FRANCAISE DES...</td>\n",
       "      <td>24/12/2021</td>\n",
       "      <td>8.50</td>\n",
       "      <td>Jeux</td>\n",
       "    </tr>\n",
       "    <tr>\n",
       "      <th>4</th>\n",
       "      <td>PAIEMENT PAR CARTE        \\r\\nAMAZON EU SARL P...</td>\n",
       "      <td>23/12/2021</td>\n",
       "      <td>79.72</td>\n",
       "      <td>Cadeaux</td>\n",
       "    </tr>\n",
       "    <tr>\n",
       "      <th>5</th>\n",
       "      <td>PAIEMENT PAR CARTE      \\nFNAC LYON CEDEX 0   ...</td>\n",
       "      <td>20/12/2021</td>\n",
       "      <td>68.98</td>\n",
       "      <td>Cadeaux</td>\n",
       "    </tr>\n",
       "    <tr>\n",
       "      <th>6</th>\n",
       "      <td>PAIEMENT PAR CARTE      \\nGLOCAL DIFFUSION LUN...</td>\n",
       "      <td>20/12/2021</td>\n",
       "      <td>25.00</td>\n",
       "      <td>Cadeaux</td>\n",
       "    </tr>\n",
       "  </tbody>\n",
       "</table>\n",
       "</div>"
      ],
      "text/plain": [
       "                                             Libellé        Date  Débit euros  \\\n",
       "1            PRELEVEMENT        \\r\\nBouygues Telecom  27/12/2021        11.99   \n",
       "2  PAIEMENT PAR CARTE        \\r\\nLA FRANCAISE DES...  24/12/2021         8.50   \n",
       "4  PAIEMENT PAR CARTE        \\r\\nAMAZON EU SARL P...  23/12/2021        79.72   \n",
       "5  PAIEMENT PAR CARTE      \\nFNAC LYON CEDEX 0   ...  20/12/2021        68.98   \n",
       "6  PAIEMENT PAR CARTE      \\nGLOCAL DIFFUSION LUN...  20/12/2021        25.00   \n",
       "\n",
       "   Catégorie  \n",
       "1  Téléphone  \n",
       "2       Jeux  \n",
       "4    Cadeaux  \n",
       "5    Cadeaux  \n",
       "6    Cadeaux  "
      ]
     },
     "execution_count": 51,
     "metadata": {},
     "output_type": "execute_result"
    }
   ],
   "source": [
    "df_operations.head()"
   ]
  },
  {
   "cell_type": "code",
   "execution_count": 52,
   "metadata": {},
   "outputs": [],
   "source": [
    "df_expenses_cat = pd.read_excel(\"../data/expenses_by_category.xlsx\").rename(columns={\"Unnamed: 0\": \"Catégorie\", \"Autres inactifs\":\"Etudiants\", \"Ensemble\":\"Français\"})[[\"Catégorie\", \"Etudiants\", \"Français\"]][:-1]"
   ]
  },
  {
   "cell_type": "code",
   "execution_count": 53,
   "metadata": {},
   "outputs": [
    {
     "data": {
      "text/html": [
       "<div>\n",
       "<style scoped>\n",
       "    .dataframe tbody tr th:only-of-type {\n",
       "        vertical-align: middle;\n",
       "    }\n",
       "\n",
       "    .dataframe tbody tr th {\n",
       "        vertical-align: top;\n",
       "    }\n",
       "\n",
       "    .dataframe thead th {\n",
       "        text-align: right;\n",
       "    }\n",
       "</style>\n",
       "<table border=\"1\" class=\"dataframe\">\n",
       "  <thead>\n",
       "    <tr style=\"text-align: right;\">\n",
       "      <th></th>\n",
       "      <th>Catégorie</th>\n",
       "      <th>Etudiants</th>\n",
       "      <th>Français</th>\n",
       "    </tr>\n",
       "  </thead>\n",
       "  <tbody>\n",
       "    <tr>\n",
       "      <th>0</th>\n",
       "      <td>Produits alimentaires et boissons non alcoolisées</td>\n",
       "      <td>16.768891</td>\n",
       "      <td>16.090613</td>\n",
       "    </tr>\n",
       "    <tr>\n",
       "      <th>1</th>\n",
       "      <td>Boissons alcoolisées et tabac</td>\n",
       "      <td>3.517955</td>\n",
       "      <td>2.875439</td>\n",
       "    </tr>\n",
       "    <tr>\n",
       "      <th>2</th>\n",
       "      <td>Articles d'habillement et chaussures</td>\n",
       "      <td>5.812929</td>\n",
       "      <td>5.012124</td>\n",
       "    </tr>\n",
       "    <tr>\n",
       "      <th>3</th>\n",
       "      <td>Logement, eau, gaz, électricité et autres comb...</td>\n",
       "      <td>24.132486</td>\n",
       "      <td>16.251477</td>\n",
       "    </tr>\n",
       "    <tr>\n",
       "      <th>4</th>\n",
       "      <td>Meubles, articles de ménage et entretien coura...</td>\n",
       "      <td>4.751010</td>\n",
       "      <td>5.684839</td>\n",
       "    </tr>\n",
       "  </tbody>\n",
       "</table>\n",
       "</div>"
      ],
      "text/plain": [
       "                                           Catégorie  Etudiants   Français\n",
       "0  Produits alimentaires et boissons non alcoolisées  16.768891  16.090613\n",
       "1                      Boissons alcoolisées et tabac   3.517955   2.875439\n",
       "2               Articles d'habillement et chaussures   5.812929   5.012124\n",
       "3  Logement, eau, gaz, électricité et autres comb...  24.132486  16.251477\n",
       "4  Meubles, articles de ménage et entretien coura...   4.751010   5.684839"
      ]
     },
     "execution_count": 53,
     "metadata": {},
     "output_type": "execute_result"
    }
   ],
   "source": [
    "df_expenses_cat.head()"
   ]
  },
  {
   "cell_type": "markdown",
   "metadata": {},
   "source": [
    "### Comparaison et mapping des catégories"
   ]
  },
  {
   "cell_type": "code",
   "execution_count": 54,
   "metadata": {},
   "outputs": [
    {
     "data": {
      "text/plain": [
       "array(['Téléphone', 'Jeux', 'Cadeaux', 'Restaurants', 'Transports',\n",
       "       'Alimentation', 'Snacking', 'Cantine', 'Livres',\n",
       "       'Mutuelle de santé', 'Loyer', 'Travaux', 'Pharmacie', 'Multimédia',\n",
       "       'Evènements', 'Habillement', 'Autres dépenses', 'Sorties',\n",
       "       'Frais bancaires', 'Ameublement/équipement', 'Santé/Bien être',\n",
       "       \"Retrait d'argent\", 'Dons', 'Chaussures', 'Frais de scolarité',\n",
       "       'Assurance logement', 'Frais immobilier'], dtype=object)"
      ]
     },
     "execution_count": 54,
     "metadata": {},
     "output_type": "execute_result"
    }
   ],
   "source": [
    "df_operations[\"Catégorie\"].unique() # toutes les catégories dans df_operations"
   ]
  },
  {
   "cell_type": "code",
   "execution_count": 55,
   "metadata": {},
   "outputs": [
    {
     "data": {
      "text/plain": [
       "array(['Produits alimentaires et boissons non alcoolisées',\n",
       "       'Boissons alcoolisées et tabac',\n",
       "       \"Articles d'habillement et chaussures\",\n",
       "       'Logement, eau, gaz, électricité et autres combustibles',\n",
       "       'Meubles, articles de ménage et entretien courant de la maison',\n",
       "       'Santé', 'Transports', 'Communications', 'Loisirs et culture',\n",
       "       'Enseignement', 'Restauration et hôtels',\n",
       "       'Biens et services divers (1)'], dtype=object)"
      ]
     },
     "execution_count": 55,
     "metadata": {},
     "output_type": "execute_result"
    }
   ],
   "source": [
    "df_expenses_cat[\"Catégorie\"].unique() # toutes les catégories dans df_expenses_cat"
   ]
  },
  {
   "cell_type": "code",
   "execution_count": 56,
   "metadata": {},
   "outputs": [],
   "source": [
    "categories_mapping_operations = {\n",
    "    \"Habitation\":[\"Habitation\", \"Travaux\", \"Electricité, gaz, eau\", \"Impôts : taxe foncière\", \"Impôts : taxe habitation\",\n",
    "                 \"Habitation secondaire\", \"Loyer\", \"Jardin\", \"Assurance logement\", \"Ménage/repassage\",\n",
    "                 \"Ameublement/équipement\", \"Frais immobilier\"],\n",
    "    \"Loisirs\":[\"Loisirs\", \"Multimédia\", \"Vacances\", \"Animaux\", \"Sport\", \"Sorties\", \"Evènements\", \"Jeux\",\n",
    "              \"Hôtels\", \"Livres\", \"Restaurants\"],\n",
    "    \"Communications\":[\"Téléphone\", \"Internet/TV\", \"Communications\"],\n",
    "    \"Alimentation\" :[\"Alimentation\", \"Cantine\", \"Snacking\"],\n",
    "    \"Transports\":[\"Transports\", \"Véhicule\", \"Moto\", \"Péages\", \"Essence\", \"Location Voiture\", \"Assurance auto\",\n",
    "                 \"Assurance moto\", \"Parking\"],\n",
    "    \"Santé/Bien être\":[\"Santé/Bien être\", \"Soin du corps\", \"Services à la personne\", \"Mutuelle de santé\", \"Pharmacie\",\n",
    "                      \"Assurance santé\", \"Aides à domicile\", \"Coiffeur\"],\n",
    "    \"Habillement\":[\"Habillement\", \"Chaussures\", \"Accessoires\"],\n",
    "    \"Autres\":[\"Frais Pro\", \"Enfants\", \"Amendes\", \"Frais de justice\", \"Frais de scolarité\", \"Gardes d'enfant\", \"Dons\", \n",
    "             \"Impôts : autres\", \"Assurances : autres\", \"Autres dépenses\",\n",
    "             \"Impôts : revenus\", \"Epargne\", \"Prêts\", \"Agios\", \"Frais bancaires\", \"Assurance vie\", \"Bourse\", \n",
    "             \"Retrait d'argent\", \"Prêt relais\", \"Cadeaux\"]\n",
    "}\n",
    "categories_mapping_operations = {subcat:cat for cat in categories_mapping_operations.keys() for subcat in categories_mapping_operations[cat]}"
   ]
  },
  {
   "cell_type": "code",
   "execution_count": 57,
   "metadata": {},
   "outputs": [],
   "source": [
    "categories_mapping_expenses_cat = {\n",
    "    'Produits alimentaires et boissons non alcoolisées':\"Alimentation\",\n",
    "    'Boissons alcoolisées et tabac':\"Alimentation\",\n",
    "    \"Articles d'habillement et chaussures\":\"Habillement\",\n",
    "    'Logement, eau, gaz, électricité et autres combustibles':\"Habitation\",\n",
    "    'Meubles, articles de ménage et entretien courant de la maison' :\"Habitation\",\n",
    "    'Santé' : \"Santé/Bien être\",\n",
    "    'Transports':\"Transports\",\n",
    "    'Communications': \"Communications\",\n",
    "    'Loisirs et culture':\"Loisirs\",\n",
    "    'Enseignement':\"Autres\",\n",
    "    'Restauration et hôtels':\"Loisirs\",\n",
    "    'Biens et services divers (1)':\"Autres\"\n",
    "}"
   ]
  },
  {
   "cell_type": "markdown",
   "metadata": {},
   "source": [
    "### Transformation des données"
   ]
  },
  {
   "cell_type": "code",
   "execution_count": 58,
   "metadata": {},
   "outputs": [],
   "source": [
    "df_operations = df_operations.rename(columns = {\"Débit euros\": \"Montant\"})\n",
    "df_operations = df_operations.rename(columns = lambda col: ud.unidecode (col.lower ())) # noms des colonnes en minuscules et sans accents"
   ]
  },
  {
   "cell_type": "code",
   "execution_count": 59,
   "metadata": {},
   "outputs": [
    {
     "data": {
      "text/html": [
       "<div>\n",
       "<style scoped>\n",
       "    .dataframe tbody tr th:only-of-type {\n",
       "        vertical-align: middle;\n",
       "    }\n",
       "\n",
       "    .dataframe tbody tr th {\n",
       "        vertical-align: top;\n",
       "    }\n",
       "\n",
       "    .dataframe thead th {\n",
       "        text-align: right;\n",
       "    }\n",
       "</style>\n",
       "<table border=\"1\" class=\"dataframe\">\n",
       "  <thead>\n",
       "    <tr style=\"text-align: right;\">\n",
       "      <th></th>\n",
       "      <th>libelle</th>\n",
       "      <th>date</th>\n",
       "      <th>montant</th>\n",
       "      <th>categorie</th>\n",
       "    </tr>\n",
       "  </thead>\n",
       "  <tbody>\n",
       "    <tr>\n",
       "      <th>1</th>\n",
       "      <td>PRELEVEMENT        \\r\\nBouygues Telecom</td>\n",
       "      <td>27/12/2021</td>\n",
       "      <td>11.99</td>\n",
       "      <td>Téléphone</td>\n",
       "    </tr>\n",
       "    <tr>\n",
       "      <th>2</th>\n",
       "      <td>PAIEMENT PAR CARTE        \\r\\nLA FRANCAISE DES...</td>\n",
       "      <td>24/12/2021</td>\n",
       "      <td>8.50</td>\n",
       "      <td>Jeux</td>\n",
       "    </tr>\n",
       "    <tr>\n",
       "      <th>4</th>\n",
       "      <td>PAIEMENT PAR CARTE        \\r\\nAMAZON EU SARL P...</td>\n",
       "      <td>23/12/2021</td>\n",
       "      <td>79.72</td>\n",
       "      <td>Cadeaux</td>\n",
       "    </tr>\n",
       "    <tr>\n",
       "      <th>5</th>\n",
       "      <td>PAIEMENT PAR CARTE      \\nFNAC LYON CEDEX 0   ...</td>\n",
       "      <td>20/12/2021</td>\n",
       "      <td>68.98</td>\n",
       "      <td>Cadeaux</td>\n",
       "    </tr>\n",
       "    <tr>\n",
       "      <th>6</th>\n",
       "      <td>PAIEMENT PAR CARTE      \\nGLOCAL DIFFUSION LUN...</td>\n",
       "      <td>20/12/2021</td>\n",
       "      <td>25.00</td>\n",
       "      <td>Cadeaux</td>\n",
       "    </tr>\n",
       "  </tbody>\n",
       "</table>\n",
       "</div>"
      ],
      "text/plain": [
       "                                             libelle        date  montant  \\\n",
       "1            PRELEVEMENT        \\r\\nBouygues Telecom  27/12/2021    11.99   \n",
       "2  PAIEMENT PAR CARTE        \\r\\nLA FRANCAISE DES...  24/12/2021     8.50   \n",
       "4  PAIEMENT PAR CARTE        \\r\\nAMAZON EU SARL P...  23/12/2021    79.72   \n",
       "5  PAIEMENT PAR CARTE      \\nFNAC LYON CEDEX 0   ...  20/12/2021    68.98   \n",
       "6  PAIEMENT PAR CARTE      \\nGLOCAL DIFFUSION LUN...  20/12/2021    25.00   \n",
       "\n",
       "   categorie  \n",
       "1  Téléphone  \n",
       "2       Jeux  \n",
       "4    Cadeaux  \n",
       "5    Cadeaux  \n",
       "6    Cadeaux  "
      ]
     },
     "execution_count": 59,
     "metadata": {},
     "output_type": "execute_result"
    }
   ],
   "source": [
    "df_operations.head ()"
   ]
  },
  {
   "cell_type": "code",
   "execution_count": 60,
   "metadata": {},
   "outputs": [],
   "source": [
    "df_operations[\"libelle\"] = df_operations[\"libelle\"].map (lambda x: x.splitlines ()[1]) # supprimer \"PAIEMENT PAR CARTE\"\n",
    "df_operations[\"libelle\"] = df_operations[\"libelle\"].map (lambda x: re.split (\"\\d+\", x) [0]) # supprimer les numéros de compte, etc\n",
    "df_operations[\"libelle\"] = df_operations[\"libelle\"].map (lambda x: re.sub (\"\\s{2,}\", \"\", x)) # supprimer les espaces en trop"
   ]
  },
  {
   "cell_type": "code",
   "execution_count": 61,
   "metadata": {},
   "outputs": [
    {
     "data": {
      "text/html": [
       "<div>\n",
       "<style scoped>\n",
       "    .dataframe tbody tr th:only-of-type {\n",
       "        vertical-align: middle;\n",
       "    }\n",
       "\n",
       "    .dataframe tbody tr th {\n",
       "        vertical-align: top;\n",
       "    }\n",
       "\n",
       "    .dataframe thead th {\n",
       "        text-align: right;\n",
       "    }\n",
       "</style>\n",
       "<table border=\"1\" class=\"dataframe\">\n",
       "  <thead>\n",
       "    <tr style=\"text-align: right;\">\n",
       "      <th></th>\n",
       "      <th>libelle</th>\n",
       "      <th>date</th>\n",
       "      <th>montant</th>\n",
       "      <th>categorie</th>\n",
       "    </tr>\n",
       "  </thead>\n",
       "  <tbody>\n",
       "    <tr>\n",
       "      <th>1</th>\n",
       "      <td>Bouygues Telecom</td>\n",
       "      <td>27/12/2021</td>\n",
       "      <td>11.99</td>\n",
       "      <td>Communications</td>\n",
       "    </tr>\n",
       "    <tr>\n",
       "      <th>2</th>\n",
       "      <td>LA FRANCAISE DES BOULOGNE</td>\n",
       "      <td>24/12/2021</td>\n",
       "      <td>8.50</td>\n",
       "      <td>Loisirs</td>\n",
       "    </tr>\n",
       "    <tr>\n",
       "      <th>4</th>\n",
       "      <td>AMAZON EU SARL PAYLI</td>\n",
       "      <td>23/12/2021</td>\n",
       "      <td>79.72</td>\n",
       "      <td>Autres</td>\n",
       "    </tr>\n",
       "    <tr>\n",
       "      <th>5</th>\n",
       "      <td>FNAC LYON CEDEX</td>\n",
       "      <td>20/12/2021</td>\n",
       "      <td>68.98</td>\n",
       "      <td>Autres</td>\n",
       "    </tr>\n",
       "    <tr>\n",
       "      <th>6</th>\n",
       "      <td>GLOCAL DIFFUSION LUNEL</td>\n",
       "      <td>20/12/2021</td>\n",
       "      <td>25.00</td>\n",
       "      <td>Autres</td>\n",
       "    </tr>\n",
       "  </tbody>\n",
       "</table>\n",
       "</div>"
      ],
      "text/plain": [
       "                     libelle        date  montant       categorie\n",
       "1           Bouygues Telecom  27/12/2021    11.99  Communications\n",
       "2  LA FRANCAISE DES BOULOGNE  24/12/2021     8.50         Loisirs\n",
       "4       AMAZON EU SARL PAYLI  23/12/2021    79.72          Autres\n",
       "5           FNAC LYON CEDEX   20/12/2021    68.98          Autres\n",
       "6     GLOCAL DIFFUSION LUNEL  20/12/2021    25.00          Autres"
      ]
     },
     "execution_count": 61,
     "metadata": {},
     "output_type": "execute_result"
    }
   ],
   "source": [
    "df_operations[\"categorie\"] = df_operations[\"categorie\"].map(categories_mapping_operations) # on oublie les sous-catégories et on ne garde que les catégories\n",
    "df_operations.head()"
   ]
  },
  {
   "cell_type": "code",
   "execution_count": 62,
   "metadata": {
    "scrolled": true
   },
   "outputs": [
    {
     "data": {
      "text/plain": [
       "Alimentation       134\n",
       "Loisirs             64\n",
       "Autres              54\n",
       "Santé/Bien être     40\n",
       "Transports          38\n",
       "Habitation          19\n",
       "Communications      13\n",
       "Habillement          8\n",
       "Name: categorie, dtype: int64"
      ]
     },
     "execution_count": 62,
     "metadata": {},
     "output_type": "execute_result"
    }
   ],
   "source": [
    "df_operations[\"categorie\"].value_counts() # nombre d'occurences"
   ]
  },
  {
   "cell_type": "code",
   "execution_count": 63,
   "metadata": {
    "scrolled": true
   },
   "outputs": [
    {
     "data": {
      "text/html": [
       "<div>\n",
       "<style scoped>\n",
       "    .dataframe tbody tr th:only-of-type {\n",
       "        vertical-align: middle;\n",
       "    }\n",
       "\n",
       "    .dataframe tbody tr th {\n",
       "        vertical-align: top;\n",
       "    }\n",
       "\n",
       "    .dataframe thead th {\n",
       "        text-align: right;\n",
       "    }\n",
       "</style>\n",
       "<table border=\"1\" class=\"dataframe\">\n",
       "  <thead>\n",
       "    <tr style=\"text-align: right;\">\n",
       "      <th></th>\n",
       "      <th>Catégorie</th>\n",
       "      <th>Etudiants</th>\n",
       "      <th>Français</th>\n",
       "    </tr>\n",
       "  </thead>\n",
       "  <tbody>\n",
       "    <tr>\n",
       "      <th>0</th>\n",
       "      <td>Alimentation</td>\n",
       "      <td>20.286845</td>\n",
       "      <td>18.966052</td>\n",
       "    </tr>\n",
       "    <tr>\n",
       "      <th>1</th>\n",
       "      <td>Autres</td>\n",
       "      <td>14.800799</td>\n",
       "      <td>16.625232</td>\n",
       "    </tr>\n",
       "    <tr>\n",
       "      <th>2</th>\n",
       "      <td>Communications</td>\n",
       "      <td>3.649845</td>\n",
       "      <td>2.711766</td>\n",
       "    </tr>\n",
       "    <tr>\n",
       "      <th>3</th>\n",
       "      <td>Habillement</td>\n",
       "      <td>5.812929</td>\n",
       "      <td>5.012124</td>\n",
       "    </tr>\n",
       "    <tr>\n",
       "      <th>4</th>\n",
       "      <td>Habitation</td>\n",
       "      <td>28.883495</td>\n",
       "      <td>21.936316</td>\n",
       "    </tr>\n",
       "  </tbody>\n",
       "</table>\n",
       "</div>"
      ],
      "text/plain": [
       "        Catégorie  Etudiants   Français\n",
       "0    Alimentation  20.286845  18.966052\n",
       "1          Autres  14.800799  16.625232\n",
       "2  Communications   3.649845   2.711766\n",
       "3     Habillement   5.812929   5.012124\n",
       "4      Habitation  28.883495  21.936316"
      ]
     },
     "execution_count": 63,
     "metadata": {},
     "output_type": "execute_result"
    }
   ],
   "source": [
    "df_expenses_cat[\"Catégorie\"] = df_expenses_cat[\"Catégorie\"].map(categories_mapping_expenses_cat) # on transforme les données de sorte à avoir les mêmes catégories que l'autre jeu de données\n",
    "df_expenses_cat = df_expenses_cat.groupby(\"Catégorie\").sum().reset_index() # on rassemble les mêmes catégories\n",
    "df_expenses_cat.head()"
   ]
  },
  {
   "cell_type": "markdown",
   "metadata": {},
   "source": [
    "### Sauvegarde des données"
   ]
  },
  {
   "cell_type": "code",
   "execution_count": 64,
   "metadata": {},
   "outputs": [],
   "source": [
    "df_operations.to_csv(\"../data/operations.csv\", index=False)\n",
    "df_expenses_cat.to_csv(\"../data/repartition_categories.csv\", index=False)"
   ]
  }
 ],
 "metadata": {
  "kernelspec": {
   "display_name": "Python 3 (ipykernel)",
   "language": "python",
   "name": "python3"
  },
  "language_info": {
   "codemirror_mode": {
    "name": "ipython",
    "version": 3
   },
   "file_extension": ".py",
   "mimetype": "text/x-python",
   "name": "python",
   "nbconvert_exporter": "python",
   "pygments_lexer": "ipython3",
   "version": "3.10.0"
  }
 },
 "nbformat": 4,
 "nbformat_minor": 4
}
